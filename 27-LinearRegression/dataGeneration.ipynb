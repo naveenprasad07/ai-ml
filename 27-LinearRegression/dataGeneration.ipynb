{
 "cells": [
  {
   "cell_type": "code",
   "execution_count": 1,
   "metadata": {},
   "outputs": [
    {
     "name": "stdout",
     "output_type": "stream",
     "text": [
      "Final correlation: 0.9366700135969876\n",
      "CSV file saved as height_weight_target_correlation.csv\n"
     ]
    }
   ],
   "source": [
    "import numpy as np\n",
    "import pandas as pd\n",
    "from scipy.stats import pearsonr\n",
    "from sklearn.preprocessing import StandardScaler\n",
    "\n",
    "# Set random seed for reproducibility\n",
    "np.random.seed(42)\n",
    "num_samples = 1000\n",
    "\n",
    "# Generate random height data (normally distributed)\n",
    "heights = np.random.normal(loc=170, scale=10, size=num_samples)\n",
    "\n",
    "# Generate an initial weight variable that is correlated with height\n",
    "weights = 50 + (heights - np.mean(heights)) * (15 / 10)\n",
    "\n",
    "# Introduce controlled noise to adjust correlation\n",
    "noise = np.random.normal(loc=0, scale=5, size=num_samples)\n",
    "\n",
    "# Standardize both height and weight\n",
    "scaler = StandardScaler()\n",
    "heights_std = scaler.fit_transform(heights.reshape(-1, 1)).flatten()\n",
    "weights_std = scaler.fit_transform(weights.reshape(-1, 1)).flatten()\n",
    "\n",
    "# Adjust correlation using weighted sum\n",
    "target_corr = 0.931142\n",
    "weights_adjusted = target_corr * heights_std + (1 - target_corr) * noise\n",
    "\n",
    "# Rescale weights back to original scale\n",
    "weights_final = (weights_adjusted - np.mean(weights_adjusted)) / np.std(weights_adjusted) * 15 + 70\n",
    "\n",
    "# Verify correlation\n",
    "final_corr, _ = pearsonr(heights, weights_final)\n",
    "print(f\"Final correlation: {final_corr}\")\n",
    "\n",
    "# Create DataFrame and save as CSV\n",
    "df_final = pd.DataFrame({\"Weight (kg)\": weights_final, \"Height (cm)\": heights})\n",
    "df_final.to_csv(\"height_weight_target_correlation.csv\", index=False)\n",
    "\n",
    "print(\"CSV file saved as height_weight_target_correlation.csv\")\n"
   ]
  }
 ],
 "metadata": {
  "kernelspec": {
   "display_name": "Python 3",
   "language": "python",
   "name": "python3"
  },
  "language_info": {
   "codemirror_mode": {
    "name": "ipython",
    "version": 3
   },
   "file_extension": ".py",
   "mimetype": "text/x-python",
   "name": "python",
   "nbconvert_exporter": "python",
   "pygments_lexer": "ipython3",
   "version": "3.12.9"
  }
 },
 "nbformat": 4,
 "nbformat_minor": 2
}
